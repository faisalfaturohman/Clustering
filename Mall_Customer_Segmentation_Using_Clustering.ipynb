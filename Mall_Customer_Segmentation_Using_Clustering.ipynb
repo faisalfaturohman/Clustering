{
  "nbformat": 4,
  "nbformat_minor": 0,
  "metadata": {
    "colab": {
      "name": "Mall-Customer-Segmentation-Using-Clustering.ipynb",
      "provenance": [],
      "authorship_tag": "ABX9TyP30+rulnT2PF5GeC7madzf",
      "include_colab_link": true
    },
    "kernelspec": {
      "name": "python3",
      "display_name": "Python 3"
    }
  },
  "cells": [
    {
      "cell_type": "markdown",
      "metadata": {
        "id": "view-in-github",
        "colab_type": "text"
      },
      "source": [
        "<a href=\"https://colab.research.google.com/github/faisalfaturohman/Mall-Customer-Segmentation-Using-Clustering/blob/main/Mall_Customer_Segmentation_Using_Clustering.ipynb\" target=\"_parent\"><img src=\"https://colab.research.google.com/assets/colab-badge.svg\" alt=\"Open In Colab\"/></a>"
      ]
    },
    {
      "cell_type": "markdown",
      "metadata": {
        "id": "-A_qPCuZXkmx"
      },
      "source": [
        "# **Import Library Python Yang Akan Digunakan**"
      ]
    },
    {
      "cell_type": "code",
      "metadata": {
        "id": "p7AlRWSmMTHy"
      },
      "source": [
        "# Import Library\n",
        "import os\n",
        "import sys\n",
        "\n",
        "import numpy as np\n",
        "import matplotlib.pyplot as plt\n",
        "import pandas as pd \n",
        "import warnings \n",
        "import seaborn as sns\n",
        "\n",
        "from sklearn.preprocessing import LabelEncoder\n",
        "from sklearn.preprocessing import StandardScaler \n",
        "\n",
        "warnings.filterwarnings('ignore')\n",
        "plt.style.use('ggplot')\n",
        "from sklearn.cluster import KMeans\n",
        "import plotly as py\n",
        "import plotly.graph_objects as go\n",
        "\n",
        "import warnings\n",
        "warnings.filterwarnings('ignore')"
      ],
      "execution_count": 125,
      "outputs": []
    },
    {
      "cell_type": "markdown",
      "metadata": {
        "id": "tLoL7IxitnuU"
      },
      "source": [
        "# **Import Dataset**"
      ]
    },
    {
      "cell_type": "code",
      "metadata": {
        "id": "Z67lLQAFlN8B",
        "outputId": "34f4ef1b-1b36-4011-c070-5a560f238bb4",
        "colab": {
          "base_uri": "https://localhost:8080/",
          "height": 204
        }
      },
      "source": [
        "df_mall=pd.read_csv('https://raw.githubusercontent.com/faisalfaturohman/Mall-Customer-Segmentation-Using-Clustering/main/Mall_Customers.csv')\n",
        "df_mall.head()"
      ],
      "execution_count": 126,
      "outputs": [
        {
          "output_type": "execute_result",
          "data": {
            "text/html": [
              "<div>\n",
              "<style scoped>\n",
              "    .dataframe tbody tr th:only-of-type {\n",
              "        vertical-align: middle;\n",
              "    }\n",
              "\n",
              "    .dataframe tbody tr th {\n",
              "        vertical-align: top;\n",
              "    }\n",
              "\n",
              "    .dataframe thead th {\n",
              "        text-align: right;\n",
              "    }\n",
              "</style>\n",
              "<table border=\"1\" class=\"dataframe\">\n",
              "  <thead>\n",
              "    <tr style=\"text-align: right;\">\n",
              "      <th></th>\n",
              "      <th>CustomerID</th>\n",
              "      <th>Gender</th>\n",
              "      <th>Age</th>\n",
              "      <th>Annual Income (k$)</th>\n",
              "      <th>Spending Score (1-100)</th>\n",
              "    </tr>\n",
              "  </thead>\n",
              "  <tbody>\n",
              "    <tr>\n",
              "      <th>0</th>\n",
              "      <td>1</td>\n",
              "      <td>Male</td>\n",
              "      <td>19</td>\n",
              "      <td>15</td>\n",
              "      <td>39</td>\n",
              "    </tr>\n",
              "    <tr>\n",
              "      <th>1</th>\n",
              "      <td>2</td>\n",
              "      <td>Male</td>\n",
              "      <td>21</td>\n",
              "      <td>15</td>\n",
              "      <td>81</td>\n",
              "    </tr>\n",
              "    <tr>\n",
              "      <th>2</th>\n",
              "      <td>3</td>\n",
              "      <td>Female</td>\n",
              "      <td>20</td>\n",
              "      <td>16</td>\n",
              "      <td>6</td>\n",
              "    </tr>\n",
              "    <tr>\n",
              "      <th>3</th>\n",
              "      <td>4</td>\n",
              "      <td>Female</td>\n",
              "      <td>23</td>\n",
              "      <td>16</td>\n",
              "      <td>77</td>\n",
              "    </tr>\n",
              "    <tr>\n",
              "      <th>4</th>\n",
              "      <td>5</td>\n",
              "      <td>Female</td>\n",
              "      <td>31</td>\n",
              "      <td>17</td>\n",
              "      <td>40</td>\n",
              "    </tr>\n",
              "  </tbody>\n",
              "</table>\n",
              "</div>"
            ],
            "text/plain": [
              "   CustomerID  Gender  Age  Annual Income (k$)  Spending Score (1-100)\n",
              "0           1    Male   19                  15                      39\n",
              "1           2    Male   21                  15                      81\n",
              "2           3  Female   20                  16                       6\n",
              "3           4  Female   23                  16                      77\n",
              "4           5  Female   31                  17                      40"
            ]
          },
          "metadata": {
            "tags": []
          },
          "execution_count": 126
        }
      ]
    },
    {
      "cell_type": "markdown",
      "metadata": {
        "id": "HPdw4qYClxUW"
      },
      "source": [
        "Dataset yang digunakan merupakan data pelanggan Mall berdasarkan pendapatan (Annual Income), Skor Pengeluaran (Spending Score), Umur (Age), Jenis Kelamin (Gender), dan Customer ID.\n",
        "\n",
        "\n",
        "> \n",
        "\n",
        "\n",
        "Data tersebut dapat digunakan untuk melakukan segmentasi pada data. "
      ]
    },
    {
      "cell_type": "markdown",
      "metadata": {
        "id": "ztWLWoRjaVVb"
      },
      "source": [
        "## **Eksplorasi Dataset**"
      ]
    },
    {
      "cell_type": "code",
      "metadata": {
        "id": "gR1UfLK-oJ-2",
        "outputId": "b08d04a3-518b-43e7-a8ab-8dd48b0e59e0",
        "colab": {
          "base_uri": "https://localhost:8080/"
        }
      },
      "source": [
        "df_mall.info()"
      ],
      "execution_count": 127,
      "outputs": [
        {
          "output_type": "stream",
          "text": [
            "<class 'pandas.core.frame.DataFrame'>\n",
            "RangeIndex: 200 entries, 0 to 199\n",
            "Data columns (total 5 columns):\n",
            " #   Column                  Non-Null Count  Dtype \n",
            "---  ------                  --------------  ----- \n",
            " 0   CustomerID              200 non-null    int64 \n",
            " 1   Gender                  200 non-null    object\n",
            " 2   Age                     200 non-null    int64 \n",
            " 3   Annual Income (k$)      200 non-null    int64 \n",
            " 4   Spending Score (1-100)  200 non-null    int64 \n",
            "dtypes: int64(4), object(1)\n",
            "memory usage: 7.9+ KB\n"
          ],
          "name": "stdout"
        }
      ]
    },
    {
      "cell_type": "code",
      "metadata": {
        "id": "z6P3xcaexnNd",
        "outputId": "2641f24a-3962-4046-bf72-b3fd6466ac1a",
        "colab": {
          "base_uri": "https://localhost:8080/",
          "height": 173
        }
      },
      "source": [
        "# Prints Descriptive Statistics\n",
        "df_mall.describe().transpose()"
      ],
      "execution_count": 128,
      "outputs": [
        {
          "output_type": "execute_result",
          "data": {
            "text/html": [
              "<div>\n",
              "<style scoped>\n",
              "    .dataframe tbody tr th:only-of-type {\n",
              "        vertical-align: middle;\n",
              "    }\n",
              "\n",
              "    .dataframe tbody tr th {\n",
              "        vertical-align: top;\n",
              "    }\n",
              "\n",
              "    .dataframe thead th {\n",
              "        text-align: right;\n",
              "    }\n",
              "</style>\n",
              "<table border=\"1\" class=\"dataframe\">\n",
              "  <thead>\n",
              "    <tr style=\"text-align: right;\">\n",
              "      <th></th>\n",
              "      <th>count</th>\n",
              "      <th>mean</th>\n",
              "      <th>std</th>\n",
              "      <th>min</th>\n",
              "      <th>25%</th>\n",
              "      <th>50%</th>\n",
              "      <th>75%</th>\n",
              "      <th>max</th>\n",
              "    </tr>\n",
              "  </thead>\n",
              "  <tbody>\n",
              "    <tr>\n",
              "      <th>CustomerID</th>\n",
              "      <td>200.0</td>\n",
              "      <td>100.50</td>\n",
              "      <td>57.879185</td>\n",
              "      <td>1.0</td>\n",
              "      <td>50.75</td>\n",
              "      <td>100.5</td>\n",
              "      <td>150.25</td>\n",
              "      <td>200.0</td>\n",
              "    </tr>\n",
              "    <tr>\n",
              "      <th>Age</th>\n",
              "      <td>200.0</td>\n",
              "      <td>38.85</td>\n",
              "      <td>13.969007</td>\n",
              "      <td>18.0</td>\n",
              "      <td>28.75</td>\n",
              "      <td>36.0</td>\n",
              "      <td>49.00</td>\n",
              "      <td>70.0</td>\n",
              "    </tr>\n",
              "    <tr>\n",
              "      <th>Annual Income (k$)</th>\n",
              "      <td>200.0</td>\n",
              "      <td>60.56</td>\n",
              "      <td>26.264721</td>\n",
              "      <td>15.0</td>\n",
              "      <td>41.50</td>\n",
              "      <td>61.5</td>\n",
              "      <td>78.00</td>\n",
              "      <td>137.0</td>\n",
              "    </tr>\n",
              "    <tr>\n",
              "      <th>Spending Score (1-100)</th>\n",
              "      <td>200.0</td>\n",
              "      <td>50.20</td>\n",
              "      <td>25.823522</td>\n",
              "      <td>1.0</td>\n",
              "      <td>34.75</td>\n",
              "      <td>50.0</td>\n",
              "      <td>73.00</td>\n",
              "      <td>99.0</td>\n",
              "    </tr>\n",
              "  </tbody>\n",
              "</table>\n",
              "</div>"
            ],
            "text/plain": [
              "                        count    mean        std  ...    50%     75%    max\n",
              "CustomerID              200.0  100.50  57.879185  ...  100.5  150.25  200.0\n",
              "Age                     200.0   38.85  13.969007  ...   36.0   49.00   70.0\n",
              "Annual Income (k$)      200.0   60.56  26.264721  ...   61.5   78.00  137.0\n",
              "Spending Score (1-100)  200.0   50.20  25.823522  ...   50.0   73.00   99.0\n",
              "\n",
              "[4 rows x 8 columns]"
            ]
          },
          "metadata": {
            "tags": []
          },
          "execution_count": 128
        }
      ]
    },
    {
      "cell_type": "markdown",
      "metadata": {
        "id": "x2MyZFlH7AjH"
      },
      "source": [
        "Dari data diatas didapatkan keterangan dengan rata-rata umur pelanggan adalah 38,85 tahun, pendapatan rata-rata 60,56 k$ dan rata-rata spending score pelanggan adalah 50,20"
      ]
    },
    {
      "cell_type": "markdown",
      "metadata": {
        "id": "Y7UFMeqLsa5Q"
      },
      "source": [
        "Melakukan perubahan nama agar lebih mudah ketika memanggil variabel"
      ]
    },
    {
      "cell_type": "code",
      "metadata": {
        "id": "aGX86ViVsXck",
        "outputId": "3297562a-0cd6-4844-d7a6-7901ff2f547c",
        "colab": {
          "base_uri": "https://localhost:8080/",
          "height": 204
        }
      },
      "source": [
        "df_mall.rename(index=str, columns={'Annual Income (k$)': 'Income',\n",
        "                              'Spending Score (1-100)': 'Score'}, inplace=True)\n",
        "df_mall.head()"
      ],
      "execution_count": 129,
      "outputs": [
        {
          "output_type": "execute_result",
          "data": {
            "text/html": [
              "<div>\n",
              "<style scoped>\n",
              "    .dataframe tbody tr th:only-of-type {\n",
              "        vertical-align: middle;\n",
              "    }\n",
              "\n",
              "    .dataframe tbody tr th {\n",
              "        vertical-align: top;\n",
              "    }\n",
              "\n",
              "    .dataframe thead th {\n",
              "        text-align: right;\n",
              "    }\n",
              "</style>\n",
              "<table border=\"1\" class=\"dataframe\">\n",
              "  <thead>\n",
              "    <tr style=\"text-align: right;\">\n",
              "      <th></th>\n",
              "      <th>CustomerID</th>\n",
              "      <th>Gender</th>\n",
              "      <th>Age</th>\n",
              "      <th>Income</th>\n",
              "      <th>Score</th>\n",
              "    </tr>\n",
              "  </thead>\n",
              "  <tbody>\n",
              "    <tr>\n",
              "      <th>0</th>\n",
              "      <td>1</td>\n",
              "      <td>Male</td>\n",
              "      <td>19</td>\n",
              "      <td>15</td>\n",
              "      <td>39</td>\n",
              "    </tr>\n",
              "    <tr>\n",
              "      <th>1</th>\n",
              "      <td>2</td>\n",
              "      <td>Male</td>\n",
              "      <td>21</td>\n",
              "      <td>15</td>\n",
              "      <td>81</td>\n",
              "    </tr>\n",
              "    <tr>\n",
              "      <th>2</th>\n",
              "      <td>3</td>\n",
              "      <td>Female</td>\n",
              "      <td>20</td>\n",
              "      <td>16</td>\n",
              "      <td>6</td>\n",
              "    </tr>\n",
              "    <tr>\n",
              "      <th>3</th>\n",
              "      <td>4</td>\n",
              "      <td>Female</td>\n",
              "      <td>23</td>\n",
              "      <td>16</td>\n",
              "      <td>77</td>\n",
              "    </tr>\n",
              "    <tr>\n",
              "      <th>4</th>\n",
              "      <td>5</td>\n",
              "      <td>Female</td>\n",
              "      <td>31</td>\n",
              "      <td>17</td>\n",
              "      <td>40</td>\n",
              "    </tr>\n",
              "  </tbody>\n",
              "</table>\n",
              "</div>"
            ],
            "text/plain": [
              "   CustomerID  Gender  Age  Income  Score\n",
              "0           1    Male   19      15     39\n",
              "1           2    Male   21      15     81\n",
              "2           3  Female   20      16      6\n",
              "3           4  Female   23      16     77\n",
              "4           5  Female   31      17     40"
            ]
          },
          "metadata": {
            "tags": []
          },
          "execution_count": 129
        }
      ]
    },
    {
      "cell_type": "markdown",
      "metadata": {
        "id": "YL-vHqX38WKh"
      },
      "source": [
        "# **Visualisasi Data**"
      ]
    },
    {
      "cell_type": "code",
      "metadata": {
        "id": "2f32wCUN5lDX",
        "outputId": "f3029893-3e6b-4893-ec98-9285cbd9f483",
        "colab": {
          "base_uri": "https://localhost:8080/",
          "height": 369
        }
      },
      "source": [
        "plt.figure(figsize=(15,5))\n",
        "plt.subplot(1,3,1,)\n",
        "plt.title('Age Distribution')\n",
        "plt.xlabel('Age')\n",
        "plt.ylabel('Count')\n",
        "plt.hist(df_mall.Age,bins=30)\n",
        "\n",
        "plt.subplot(1,3,2)\n",
        "plt.title('Annual Income Distribution')\n",
        "plt.xlabel('Annual Income')\n",
        "plt.ylabel('Count')\n",
        "plt.hist(df_mall['Income'],bins=30)\n",
        "\n",
        "plt.subplot(1,3,3)\n",
        "plt.title('Spending Score Distribution')\n",
        "plt.xlabel('Spending Score')\n",
        "plt.ylabel('Count')\n",
        "plt.hist(df_mall['Score'],bins=30)\n",
        "\n",
        "plt.tight_layout()\n",
        "\n",
        "pass"
      ],
      "execution_count": 130,
      "outputs": [
        {
          "output_type": "display_data",
          "data": {
            "image/png": "[encoded data removed]",
            "text/plain": [
              "<Figure size 1080x360 with 3 Axes>"
            ]
          },
          "metadata": {
            "tags": []
          }
        }
      ]
    },
    {
      "cell_type": "markdown",
      "metadata": {
        "id": "6kjYtNOR7uN2"
      },
      "source": [
        "Berdasarkan histogram yang ada kita bisa mengobservasi jika kebanyakan pelanggar berumur 30-40 tahun, pendapatan pelanggan kebanyakan antara 60-80 dan spending score kebanyakan antara 40-60."
      ]
    },
    {
      "cell_type": "code",
      "metadata": {
        "id": "ncrX8F0g8pk-",
        "outputId": "cb49d65e-f646-4aea-e735-013c27b7db62",
        "colab": {
          "base_uri": "https://localhost:8080/",
          "height": 513
        }
      },
      "source": [
        "plt.figure(figsize=(15,7))\n",
        "plt.subplot(1,3,1,)\n",
        "plt.title('Age Vs Spending Score')\n",
        "plt.xlabel('Age')\n",
        "plt.ylabel('Spending Score')\n",
        "plt.scatter(df_mall['Age'],df_mall['Score'],s=100,c='m')\n",
        "\n",
        "plt.subplot(1,3,2)\n",
        "plt.title('Annual Income Vs Spending Score')\n",
        "plt.xlabel('Annual Income')\n",
        "plt.ylabel('Spending Score')\n",
        "plt.scatter(df_mall['Income'],df_mall['Score'],s=100,c='b')\n",
        "\n",
        "colors = ['g','r','m','b']\n",
        "\n",
        "plt.subplot(1,3,3,)\n",
        "plt.title('Gender Vs Spending Score')\n",
        "plt.xlabel('Gender')\n",
        "plt.ylabel('Spending Score')\n",
        "cat_list=df_mall['Gender'].unique()\n",
        "cat_average=df_mall.groupby('Gender').mean()['Score']\n",
        "plt.bar(cat_list,cat_average,color=colors)\n",
        "\n",
        "plt.tight_layout()\n",
        "\n",
        "pass"
      ],
      "execution_count": 131,
      "outputs": [
        {
          "output_type": "display_data",
          "data": {
            "image/png": "[encoded data removed]",
            "text/plain": [
              "<Figure size 1080x504 with 3 Axes>"
            ]
          },
          "metadata": {
            "tags": []
          }
        }
      ]
    },
    {
      "cell_type": "markdown",
      "metadata": {
        "id": "PWRtfc6l-HLK"
      },
      "source": [
        "Dari plot diatas didapatkan kesimpulan :\n",
        "1.   jika pada umur 20 - 40 tahun akan melakukan spending lebih banyak dibandingkan setelah umur 40 tahun, hal itu disebabkan karena pada umur 40 tahun keatas uang pendapatan akan lebih digunakan untuk keperluan keluarga bagi yang sudah berkeluarga.\n",
        "2.   Dengan menggunakan Annual Income saja sudah memperlihatkan kurang lebihnya kelompok data / cluster.\n",
        "3.   Dengan menggunakan perbandingan Gender dengan Spending score kita dapat melihat jika pria lebih banyak spend uang dibandingkan wanita."
      ]
    },
    {
      "cell_type": "markdown",
      "metadata": {
        "id": "gCW7mdm-322P"
      },
      "source": [
        "# **K-Means Clustering**\n",
        "\n",
        "K-Means Clustering adalah suatu metode penganalisaan data atau metode Data Mining yang melakukan proses pemodelan tanpa supervisi (unsupervised) dan merupakan salah satu metode yang melakukan pengelompokan data dengan sistem partisi."
      ]
    },
    {
      "cell_type": "markdown",
      "metadata": {
        "id": "w2DdFw0R5KUl"
      },
      "source": [
        "## **Segmentasi Data Menggunakan Income Vs Spending Score**"
      ]
    },
    {
      "cell_type": "markdown",
      "metadata": {
        "id": "vBTYG9ttD0Ez"
      },
      "source": [
        "**Mencari n paling optimum menggunakan Metode Elbow**"
      ]
    },
    {
      "cell_type": "code",
      "metadata": {
        "id": "CtC64RAp5Zx7",
        "outputId": "82f96506-a43a-4226-c8c5-ca4f17e6fbe7",
        "colab": {
          "base_uri": "https://localhost:8080/",
          "height": 517
        }
      },
      "source": [
        "X = df_mall.iloc[:,[3,4]].values\n",
        "\n",
        "clusters = []\n",
        "\n",
        "for i in range(1, 11):\n",
        "    km = KMeans(n_clusters=i).fit(X)\n",
        "    clusters.append(km.inertia_)\n",
        "    \n",
        "fig, ax = plt.subplots(figsize=(12, 8))\n",
        "sns.lineplot(x=list(range(1, 11)), y=clusters, ax=ax)\n",
        "ax.set_title('Mencari Jumlah Cluster Terbaik Menggunakan Metode Elbow')\n",
        "ax.set_xlabel('Clusters')\n",
        "ax.set_ylabel('Inertia')\n",
        "\n",
        "plt.show()"
      ],
      "execution_count": 132,
      "outputs": [
        {
          "output_type": "display_data",
          "data": {
            "image/png": "[encoded data removed]",
            "text/plain": [
              "<Figure size 864x576 with 1 Axes>"
            ]
          },
          "metadata": {
            "tags": []
          }
        }
      ]
    },
    {
      "cell_type": "markdown",
      "metadata": {
        "id": "3qEnAqImEBqQ"
      },
      "source": [
        "Didapatkan 5 Cluster"
      ]
    },
    {
      "cell_type": "markdown",
      "metadata": {
        "id": "QFWcPISoM6c0"
      },
      "source": [
        "**Penerapan Metode K-Means**"
      ]
    },
    {
      "cell_type": "code",
      "metadata": {
        "id": "x8nsmwvSD-pA"
      },
      "source": [
        "kmeans=KMeans(n_clusters=5,init='k-means++',max_iter=300,n_init=10,random_state=0)\n",
        "y_kmeans=kmeans.fit_predict(X)"
      ],
      "execution_count": 133,
      "outputs": []
    },
    {
      "cell_type": "markdown",
      "metadata": {
        "id": "r6Tl6YGaM2r9"
      },
      "source": [
        "**Visualisasi Data Hasil Clustering menggunakan K-Means**"
      ]
    },
    {
      "cell_type": "code",
      "metadata": {
        "id": "xJNGlasgEblP",
        "outputId": "701cb3b3-e0b2-4f2b-bfc7-aa4d68dfe64f",
        "colab": {
          "base_uri": "https://localhost:8080/",
          "height": 299
        }
      },
      "source": [
        "plt.scatter(X[y_kmeans==0,0],X[y_kmeans==0,1],s=100,c='magenta',label='1')\n",
        "plt.scatter(X[y_kmeans==1,0],X[y_kmeans==1,1],s=100,c='yellow',label='2')\n",
        "plt.scatter(X[y_kmeans==2,0],X[y_kmeans==2,1],s=100,c='green',label='3')\n",
        "plt.scatter(X[y_kmeans==3,0],X[y_kmeans==3,1],s=100,c='cyan',label='4')\n",
        "plt.scatter(X[y_kmeans==4,0],X[y_kmeans==4,1],s=100,c='burlywood',label='5')\n",
        "plt.scatter(kmeans.cluster_centers_[:,0],kmeans.cluster_centers_[:,1],s=300,c='red',label='Centroids')\n",
        "plt.title('Cluster dari Pelanggan Mall')\n",
        "plt.xlabel('Annual Income (k$)')\n",
        "plt.ylabel('Spending Score (1-100)')\n",
        "plt.legend()\n",
        "plt.show\n",
        "pass"
      ],
      "execution_count": 134,
      "outputs": [
        {
          "output_type": "display_data",
          "data": {
            "image/png": "[encoded data removed]",
            "text/plain": [
              "<Figure size 432x288 with 1 Axes>"
            ]
          },
          "metadata": {
            "tags": []
          }
        }
      ]
    },
    {
      "cell_type": "markdown",
      "metadata": {
        "id": "MLOGO2ocIi_R"
      },
      "source": [
        "Berdasarkan perbandingan antara income dan spending menggunakan algoritma K-Means didapatkan ada 5 cluster :\n",
        "1.   Cluster 1, Pendapatan(Income) Sedang Spending sedang = Standar \n",
        "2.   Cluster 2, Pendapatan(Income) Rendah Spending Tinggi = Boros\n",
        "3.   Cluster 3, Pendapatan(Income) Tinggi Spending Tinggi = Dapat menjadi Target Mall yang paling optimal\n",
        "4.   Cluster 4, Pendapatan(Income) Rendah Spending Rendah = Bijaksana \n",
        "5.   Cluster 5, Pendapatan(Income) Tinggi Spending Rendah = Hemat dan berhati-hati \n"
      ]
    },
    {
      "cell_type": "markdown",
      "metadata": {
        "id": "NSXKCHtYKz5h"
      },
      "source": [
        "## **Segmentasi Data Menggunakan Age Vs Spending Score**"
      ]
    },
    {
      "cell_type": "markdown",
      "metadata": {
        "id": "sumwXylwLB95"
      },
      "source": [
        "**Mencari n paling optimum menggunakan Metode Elbow**"
      ]
    },
    {
      "cell_type": "code",
      "metadata": {
        "id": "idE01ELkLFfT",
        "outputId": "f863d106-28b6-4eb1-e3b7-2d9bdf0e55fe",
        "colab": {
          "base_uri": "https://localhost:8080/",
          "height": 517
        }
      },
      "source": [
        "# Memilih variabel yang ingin digunakan yaitu Age dan spending yang berada pada kolom 2 dan\n",
        "X1=df_mall.iloc[:,[2,4]].values\n",
        "\n",
        "clusters = []\n",
        "\n",
        "for i in range(1, 11):\n",
        "    km = KMeans(n_clusters=i).fit(X1)\n",
        "    clusters.append(km.inertia_)\n",
        "    \n",
        "fig, ax = plt.subplots(figsize=(12, 8))\n",
        "sns.lineplot(x=list(range(1, 11)), y=clusters, ax=ax)\n",
        "ax.set_title('Mencari Jumlah Cluster Terbaik Menggunakan Metode Elbow')\n",
        "ax.set_xlabel('Clusters')\n",
        "ax.set_ylabel('Inertia')\n",
        "\n",
        "plt.show()"
      ],
      "execution_count": 135,
      "outputs": [
        {
          "output_type": "display_data",
          "data": {
            "image/png": "[encoded data removed]",
            "text/plain": [
              "<Figure size 864x576 with 1 Axes>"
            ]
          },
          "metadata": {
            "tags": []
          }
        }
      ]
    },
    {
      "cell_type": "markdown",
      "metadata": {
        "id": "TSy7iijzMcYU"
      },
      "source": [
        "**Penerapan Metode K-Means**"
      ]
    },
    {
      "cell_type": "code",
      "metadata": {
        "id": "S0ugmcQ9MYFe"
      },
      "source": [
        "kmeans=KMeans(n_clusters=4,init='k-means++',max_iter=300,n_init=10,random_state=0)\n",
        "y_kmeans=kmeans.fit_predict(X1)"
      ],
      "execution_count": 136,
      "outputs": []
    },
    {
      "cell_type": "markdown",
      "metadata": {
        "id": "9ZN5D5B9MsgS"
      },
      "source": [
        "**Visualisasi Data Hasil Clustering menggunakan K-Means**"
      ]
    },
    {
      "cell_type": "code",
      "metadata": {
        "id": "O9JgreWhMqlU",
        "outputId": "395d5b29-ca7e-4f5f-9aa1-9d4f2b818829",
        "colab": {
          "base_uri": "https://localhost:8080/",
          "height": 299
        }
      },
      "source": [
        "plt.scatter(X1[y_kmeans==0,0],X1[y_kmeans==0,1],s=100,c='magenta',label='1')\n",
        "plt.scatter(X1[y_kmeans==1,0],X1[y_kmeans==1,1],s=100,c='yellow',label='2')\n",
        "plt.scatter(X1[y_kmeans==2,0],X1[y_kmeans==2,1],s=100,c='green',label='3')\n",
        "plt.scatter(X1[y_kmeans==3,0],X1[y_kmeans==3,1],s=100,c='cyan',label='4')\n",
        "\n",
        "plt.scatter(kmeans.cluster_centers_[:,0],kmeans.cluster_centers_[:,1],s=300,c='red',label='Centroids')\n",
        "plt.title('Cluster dari Pelanggan Mall')\n",
        "plt.xlabel('Age')\n",
        "plt.ylabel('Spending Score (1-100)')\n",
        "plt.legend()\n",
        "plt.show\n",
        "pass"
      ],
      "execution_count": 137,
      "outputs": [
        {
          "output_type": "display_data",
          "data": {
            "image/png": "[encoded data removed]",
            "text/plain": [
              "<Figure size 432x288 with 1 Axes>"
            ]
          },
          "metadata": {
            "tags": []
          }
        }
      ]
    },
    {
      "cell_type": "markdown",
      "metadata": {
        "id": "uXLRrTqeNvHO"
      },
      "source": [
        "Dari data diatas disimpulkan ada 4 kelompok :\n",
        "1.   Cluster 1 = Muda dan Spending Sedang\n",
        "2.   Cluster 2 = Muda dan Spending Tinggi\n",
        "3.   Cluster 3 = Pelanggan dengan berbagai umur dengan rating Spending Rendah\n",
        "4.   Cluster 4 = Pelanggan Orang Tua dengan Spending Sedang\n",
        "\n"
      ]
    },
    {
      "cell_type": "markdown",
      "metadata": {
        "id": "uvq8eQhaO8Tt"
      },
      "source": [
        "## **Hubungan Antara Age (Umur) dengan Income (Pendapatan)**"
      ]
    },
    {
      "cell_type": "markdown",
      "metadata": {
        "id": "qMzG8y75PRLc"
      },
      "source": [
        "**Mencari n paling optimum menggunakan Metode Elbow**"
      ]
    },
    {
      "cell_type": "code",
      "metadata": {
        "id": "wg_0n8pzPXIE",
        "outputId": "8e412f87-f54a-452f-f682-f68f5a6afcb8",
        "colab": {
          "base_uri": "https://localhost:8080/",
          "height": 517
        }
      },
      "source": [
        "# Memilih variabel yang ingin digunakan yaitu Age dan spending yang berada pada kolom 2 dan\n",
        "X2=df_mall.iloc[:,[2,3]].values\n",
        "\n",
        "clusters = []\n",
        "\n",
        "for i in range(1, 11):\n",
        "    km = KMeans(n_clusters=i).fit(X2)\n",
        "    clusters.append(km.inertia_)\n",
        "    \n",
        "fig, ax = plt.subplots(figsize=(12, 8))\n",
        "sns.lineplot(x=list(range(1, 11)), y=clusters, ax=ax)\n",
        "ax.set_title('Mencari Jumlah Cluster Terbaik Menggunakan Metode Elbow')\n",
        "ax.set_xlabel('Clusters')\n",
        "ax.set_ylabel('Inertia')\n",
        "\n",
        "plt.show()"
      ],
      "execution_count": 138,
      "outputs": [
        {
          "output_type": "display_data",
          "data": {
            "image/png": "[encoded data removed]",
            "text/plain": [
              "<Figure size 864x576 with 1 Axes>"
            ]
          },
          "metadata": {
            "tags": []
          }
        }
      ]
    },
    {
      "cell_type": "code",
      "metadata": {
        "id": "w9VFQgN3QNum",
        "outputId": "2812bdf6-0004-4761-cbd9-dce867687092",
        "colab": {
          "base_uri": "https://localhost:8080/"
        }
      },
      "source": [
        "# Silhoutte Method\n",
        "from sklearn.metrics import silhouette_score\n",
        "from sklearn.cluster import KMeans\n",
        "\n",
        "for n_cluster in range(2, 11):\n",
        "    kmeans = KMeans(n_clusters=n_cluster).fit(X2)\n",
        "    label = kmeans.labels_\n",
        "    sil_coeff = silhouette_score(X2, label, metric='euclidean')\n",
        "    print('For n_clusters={}, The Silhouette Coefficient is {}'.format(n_cluster, sil_coeff))"
      ],
      "execution_count": 139,
      "outputs": [
        {
          "output_type": "stream",
          "text": [
            "For n_clusters=2, The Silhouette Coefficient is 0.42620850066216065\n",
            "For n_clusters=3, The Silhouette Coefficient is 0.4254725038202792\n",
            "For n_clusters=4, The Silhouette Coefficient is 0.43368606798330267\n",
            "For n_clusters=5, The Silhouette Coefficient is 0.40157587536205724\n",
            "For n_clusters=6, The Silhouette Coefficient is 0.3959805131239844\n",
            "For n_clusters=7, The Silhouette Coefficient is 0.3855106798224098\n",
            "For n_clusters=8, The Silhouette Coefficient is 0.3752592697888692\n",
            "For n_clusters=9, The Silhouette Coefficient is 0.3983502229830414\n",
            "For n_clusters=10, The Silhouette Coefficient is 0.4090738019062472\n"
          ],
          "name": "stdout"
        }
      ]
    },
    {
      "cell_type": "markdown",
      "metadata": {
        "id": "HEkjqPIcQvgJ"
      },
      "source": [
        "**Penerapan Metode K-Means**"
      ]
    },
    {
      "cell_type": "code",
      "metadata": {
        "id": "a9zDUO55QiEO"
      },
      "source": [
        "kmeans=KMeans(n_clusters=4,init='k-means++',max_iter=300,n_init=10,random_state=0)\n",
        "y_kmeans=kmeans.fit_predict(X2)"
      ],
      "execution_count": 140,
      "outputs": []
    },
    {
      "cell_type": "markdown",
      "metadata": {
        "id": "7QpA_wj3Q22P"
      },
      "source": [
        "**Visualisasi Data Hasil Clustering menggunakan K-Means**"
      ]
    },
    {
      "cell_type": "code",
      "metadata": {
        "id": "HaxMXBLiQ7XM",
        "outputId": "79797ba7-a0b9-4394-97d5-cf3a0138fe64",
        "colab": {
          "base_uri": "https://localhost:8080/",
          "height": 299
        }
      },
      "source": [
        "plt.scatter(X2[y_kmeans==0,0],X2[y_kmeans==0,1],s=100,c='magenta',label='1')\n",
        "plt.scatter(X2[y_kmeans==1,0],X2[y_kmeans==1,1],s=100,c='yellow',label='2')\n",
        "plt.scatter(X2[y_kmeans==2,0],X2[y_kmeans==2,1],s=100,c='green',label='3')\n",
        "plt.scatter(X2[y_kmeans==3,0],X2[y_kmeans==3,1],s=100,c='cyan',label='4')\n",
        "\n",
        "plt.scatter(kmeans.cluster_centers_[:,0],kmeans.cluster_centers_[:,1],s=300,c='red',label='Centroids')\n",
        "plt.title('Cluster dari Pelanggan Mall')\n",
        "plt.xlabel('Age')\n",
        "plt.ylabel('Income')\n",
        "plt.legend()\n",
        "plt.show\n",
        "pass"
      ],
      "execution_count": 141,
      "outputs": [
        {
          "output_type": "display_data",
          "data": {
            "image/png": "[encoded data removed]",
            "text/plain": [
              "<Figure size 432x288 with 1 Axes>"
            ]
          },
          "metadata": {
            "tags": []
          }
        }
      ]
    },
    {
      "cell_type": "markdown",
      "metadata": {
        "id": "jhOrT0HVRQ-1"
      },
      "source": [
        "Didapatkan kesimpulan jika pada umur 30 - 40 merupakan pelanggan dengan Income(pendapatan) tertinggi."
      ]
    },
    {
      "cell_type": "markdown",
      "metadata": {
        "id": "BFZvlKcaSE5F"
      },
      "source": [
        "## **Hubungan Antara Age, Income dan Spending Score**"
      ]
    },
    {
      "cell_type": "markdown",
      "metadata": {
        "id": "lmlCaXj8bVgh"
      },
      "source": [
        "**Mencari Nilai K Paling Optimal**"
      ]
    },
    {
      "cell_type": "code",
      "metadata": {
        "id": "mDreUjvoSzNW",
        "outputId": "04730d7e-8d93-4e6b-fbf5-d12881cd06fb",
        "colab": {
          "base_uri": "https://localhost:8080/",
          "height": 391
        }
      },
      "source": [
        "# Memilih variabel yang ingin digunakan yaitu Age, Income, Spending Score\n",
        "X3 = df_mall[['Age' , 'Income' ,'Score']].iloc[: , :].values\n",
        "inertia = []\n",
        "for n in range(1 , 11):\n",
        "    algorithm = (KMeans(n_clusters = n ,init='k-means++', n_init = 10 ,max_iter=300, \n",
        "                        tol=0.0001,  random_state= 111  , algorithm='elkan') )\n",
        "    algorithm.fit(X3)\n",
        "    inertia.append(algorithm.inertia_)\n",
        "\n",
        "plt.figure(1 , figsize = (10 ,6))\n",
        "plt.plot(np.arange(1 , 11) , inertia , 'o')\n",
        "plt.plot(np.arange(1 , 11) , inertia , '-' , alpha = 0.5)\n",
        "plt.xlabel('Number of Clusters') , plt.ylabel('Inertia')\n",
        "plt.show()"
      ],
      "execution_count": 142,
      "outputs": [
        {
          "output_type": "display_data",
          "data": {
            "image/png": "[encoded data removed]",
            "text/plain": [
              "<Figure size 720x432 with 1 Axes>"
            ]
          },
          "metadata": {
            "tags": []
          }
        }
      ]
    },
    {
      "cell_type": "markdown",
      "metadata": {
        "id": "7tmtR8F0TUsz"
      },
      "source": [
        "**Penerapan Metode K-Means**"
      ]
    },
    {
      "cell_type": "code",
      "metadata": {
        "id": "o5JEpgmKoHho"
      },
      "source": [
        "algorithm = (KMeans(n_clusters = 6 ,init='k-means++', n_init = 10 ,max_iter=300, \n",
        "                        tol=0.0001,  random_state= 111  , algorithm='elkan') )\n",
        "algorithm.fit(X3)\n",
        "labels3 = algorithm.labels_\n",
        "centroids3 = algorithm.cluster_centers_"
      ],
      "execution_count": 143,
      "outputs": []
    },
    {
      "cell_type": "code",
      "metadata": {
        "id": "b8UYZcpZ8h52"
      },
      "source": [
        "# save file to consistency of cluster point\n",
        "df_mall.to_csv('customer segmented.csv', index=False)\n",
        "\n",
        "# read to interpret\n",
        "df_mall = pd.read_csv('customer segmented.csv')"
      ],
      "execution_count": 144,
      "outputs": []
    },
    {
      "cell_type": "markdown",
      "metadata": {
        "id": "JxOUm5BZTf3C"
      },
      "source": [
        "**Visualisasi Data Hasil Clustering menggunakan K-Means**"
      ]
    },
    {
      "cell_type": "code",
      "metadata": {
        "id": "a3o2-_-VcK5f",
        "outputId": "38327aab-c216-4837-9402-97befec13ee9",
        "colab": {
          "base_uri": "https://localhost:8080/",
          "height": 542
        }
      },
      "source": [
        "import plotly as py\n",
        "import plotly.graph_objs as go\n",
        "py.offline.init_notebook_mode(connected = True)\n",
        "df_mall['label3'] =  labels3\n",
        "\n",
        "trace1 = go.Scatter3d(\n",
        "    x= df_mall['Age'],\n",
        "    y= df_mall['Score'],\n",
        "    z= df_mall['Income'],\n",
        "    mode='markers',\n",
        "     marker=dict(\n",
        "        color = df_mall['label3'], \n",
        "        size= 20,\n",
        "        line=dict(\n",
        "            color= df_mall['label3'],\n",
        "            width= 12\n",
        "        ),\n",
        "        opacity=0.8\n",
        "     )\n",
        ")\n",
        "data = [trace1]\n",
        "layout = go.Layout(\n",
        "#     margin=dict(\n",
        "#         l=0,\n",
        "#         r=0,\n",
        "#         b=0,\n",
        "#         t=0\n",
        "#     )\n",
        "    title= 'Clusters',\n",
        "    scene = dict(\n",
        "            xaxis = dict(title  = 'Age'),\n",
        "            yaxis = dict(title  = 'Spending Score'),\n",
        "            zaxis = dict(title  = 'Annual Income')\n",
        "        )\n",
        ")\n",
        "fig = go.Figure(data=data, layout=layout)\n",
        "py.offline.iplot(fig)\n",
        "plt.show()"
      ],
      "execution_count": 145,
      "outputs": [
        {
          "output_type": "display_data",
          "data": {
            "text/html": [
              "        <script type=\"text/javascript\">\n",
              "        window.PlotlyConfig = {MathJaxConfig: 'local'};\n",
              "        if (window.MathJax) {MathJax.Hub.Config({SVG: {font: \"STIX-Web\"}});}\n",
              "        if (typeof require !== 'undefined') {\n",
              "        require.undef(\"plotly\");\n",
              "        requirejs.config({\n",
              "            paths: {\n",
              "                'plotly': ['https://cdn.plot.ly/plotly-latest.min']\n",
              "            }\n",
              "        });\n",
              "        require(['plotly'], function(Plotly) {\n",
              "            window._Plotly = Plotly;\n",
              "        });\n",
              "        }\n",
              "        </script>\n",
              "        "
            ]
          },
          "metadata": {
            "tags": []
          }
        },
        {
          "output_type": "display_data",
          "data": {
            "text/html": [
              "<div>\n",
              "        \n",
              "        \n",
              "            <div id=\"66ae6d18-7900-43e1-ba2f-0d1fdaa213bf\" class=\"plotly-graph-div\" style=\"height:525px; width:100%;\"></div>\n",
              "            <script type=\"text/javascript\">\n",
              "                require([\"plotly\"], function(Plotly) {\n",
              "                    window.PLOTLYENV=window.PLOTLYENV || {};\n",
              "                    \n",
              "                if (document.getElementById(\"66ae6d18-7900-43e1-ba2f-0d1fdaa213bf\")) {\n",
              "                    Plotly.newPlot(\n",
              "                        '66ae6d18-7900-43e1-ba2f-0d1fdaa213bf',\n",
              "                        [{\"marker\": {\"color\": [4, 3, 4, 3, 4, 3, 4, 3, 4, 3, 4, 3, 4, 3, 4, 3, 4, 3, 4, 3, 4, 3, 4, 3, 4, 3, 4, 3, 4, 3, 4, 3, 4, 3, 4, 3, 4, 3, 4, 3, 0, 3, 0, 5, 4, 3, 0, 5, 5, 5, 0, 5, 5, 0, 0, 0, 0, 0, 5, 0, 0, 5, 0, 0, 0, 5, 0, 0, 5, 5, 0, 0, 0, 0, 0, 5, 0, 5, 5, 0, 0, 5, 0, 0, 5, 0, 0, 5, 5, 0, 0, 5, 0, 5, 5, 5, 0, 5, 0, 5, 5, 0, 0, 5, 0, 5, 0, 0, 0, 0, 0, 5, 5, 5, 5, 5, 0, 0, 0, 0, 5, 5, 5, 1, 5, 1, 2, 1, 2, 1, 2, 1, 5, 1, 2, 1, 2, 1, 2, 1, 2, 1, 5, 1, 2, 1, 2, 1, 2, 1, 2, 1, 2, 1, 2, 1, 2, 1, 2, 1, 2, 1, 2, 1, 2, 1, 2, 1, 2, 1, 2, 1, 2, 1, 2, 1, 2, 1, 2, 1, 2, 1, 2, 1, 2, 1, 2, 1, 2, 1, 2, 1, 2, 1, 2, 1, 2, 1, 2, 1], \"line\": {\"color\": [4, 3, 4, 3, 4, 3, 4, 3, 4, 3, 4, 3, 4, 3, 4, 3, 4, 3, 4, 3, 4, 3, 4, 3, 4, 3, 4, 3, 4, 3, 4, 3, 4, 3, 4, 3, 4, 3, 4, 3, 0, 3, 0, 5, 4, 3, 0, 5, 5, 5, 0, 5, 5, 0, 0, 0, 0, 0, 5, 0, 0, 5, 0, 0, 0, 5, 0, 0, 5, 5, 0, 0, 0, 0, 0, 5, 0, 5, 5, 0, 0, 5, 0, 0, 5, 0, 0, 5, 5, 0, 0, 5, 0, 5, 5, 5, 0, 5, 0, 5, 5, 0, 0, 5, 0, 5, 0, 0, 0, 0, 0, 5, 5, 5, 5, 5, 0, 0, 0, 0, 5, 5, 5, 1, 5, 1, 2, 1, 2, 1, 2, 1, 5, 1, 2, 1, 2, 1, 2, 1, 2, 1, 5, 1, 2, 1, 2, 1, 2, 1, 2, 1, 2, 1, 2, 1, 2, 1, 2, 1, 2, 1, 2, 1, 2, 1, 2, 1, 2, 1, 2, 1, 2, 1, 2, 1, 2, 1, 2, 1, 2, 1, 2, 1, 2, 1, 2, 1, 2, 1, 2, 1, 2, 1, 2, 1, 2, 1, 2, 1], \"width\": 12}, \"opacity\": 0.8, \"size\": 20}, \"mode\": \"markers\", \"type\": \"scatter3d\", \"x\": [19, 21, 20, 23, 31, 22, 35, 23, 64, 30, 67, 35, 58, 24, 37, 22, 35, 20, 52, 35, 35, 25, 46, 31, 54, 29, 45, 35, 40, 23, 60, 21, 53, 18, 49, 21, 42, 30, 36, 20, 65, 24, 48, 31, 49, 24, 50, 27, 29, 31, 49, 33, 31, 59, 50, 47, 51, 69, 27, 53, 70, 19, 67, 54, 63, 18, 43, 68, 19, 32, 70, 47, 60, 60, 59, 26, 45, 40, 23, 49, 57, 38, 67, 46, 21, 48, 55, 22, 34, 50, 68, 18, 48, 40, 32, 24, 47, 27, 48, 20, 23, 49, 67, 26, 49, 21, 66, 54, 68, 66, 65, 19, 38, 19, 18, 19, 63, 49, 51, 50, 27, 38, 40, 39, 23, 31, 43, 40, 59, 38, 47, 39, 25, 31, 20, 29, 44, 32, 19, 35, 57, 32, 28, 32, 25, 28, 48, 32, 34, 34, 43, 39, 44, 38, 47, 27, 37, 30, 34, 30, 56, 29, 19, 31, 50, 36, 42, 33, 36, 32, 40, 28, 36, 36, 52, 30, 58, 27, 59, 35, 37, 32, 46, 29, 41, 30, 54, 28, 41, 36, 34, 32, 33, 38, 47, 35, 45, 32, 32, 30], \"y\": [39, 81, 6, 77, 40, 76, 6, 94, 3, 72, 14, 99, 15, 77, 13, 79, 35, 66, 29, 98, 35, 73, 5, 73, 14, 82, 32, 61, 31, 87, 4, 73, 4, 92, 14, 81, 17, 73, 26, 75, 35, 92, 36, 61, 28, 65, 55, 47, 42, 42, 52, 60, 54, 60, 45, 41, 50, 46, 51, 46, 56, 55, 52, 59, 51, 59, 50, 48, 59, 47, 55, 42, 49, 56, 47, 54, 53, 48, 52, 42, 51, 55, 41, 44, 57, 46, 58, 55, 60, 46, 55, 41, 49, 40, 42, 52, 47, 50, 42, 49, 41, 48, 59, 55, 56, 42, 50, 46, 43, 48, 52, 54, 42, 46, 48, 50, 43, 59, 43, 57, 56, 40, 58, 91, 29, 77, 35, 95, 11, 75, 9, 75, 34, 71, 5, 88, 7, 73, 10, 72, 5, 93, 40, 87, 12, 97, 36, 74, 22, 90, 17, 88, 20, 76, 16, 89, 1, 78, 1, 73, 35, 83, 5, 93, 26, 75, 20, 95, 27, 63, 13, 75, 10, 92, 13, 86, 15, 69, 14, 90, 32, 86, 15, 88, 39, 97, 24, 68, 17, 85, 23, 69, 8, 91, 16, 79, 28, 74, 18, 83], \"z\": [15, 15, 16, 16, 17, 17, 18, 18, 19, 19, 19, 19, 20, 20, 20, 20, 21, 21, 23, 23, 24, 24, 25, 25, 28, 28, 28, 28, 29, 29, 30, 30, 33, 33, 33, 33, 34, 34, 37, 37, 38, 38, 39, 39, 39, 39, 40, 40, 40, 40, 42, 42, 43, 43, 43, 43, 44, 44, 46, 46, 46, 46, 47, 47, 48, 48, 48, 48, 48, 48, 49, 49, 50, 50, 54, 54, 54, 54, 54, 54, 54, 54, 54, 54, 54, 54, 57, 57, 58, 58, 59, 59, 60, 60, 60, 60, 60, 60, 61, 61, 62, 62, 62, 62, 62, 62, 63, 63, 63, 63, 63, 63, 64, 64, 65, 65, 65, 65, 67, 67, 67, 67, 69, 69, 70, 70, 71, 71, 71, 71, 71, 71, 72, 72, 73, 73, 73, 73, 74, 74, 75, 75, 76, 76, 77, 77, 77, 77, 78, 78, 78, 78, 78, 78, 78, 78, 78, 78, 78, 78, 79, 79, 81, 81, 85, 85, 86, 86, 87, 87, 87, 87, 87, 87, 88, 88, 88, 88, 93, 93, 97, 97, 98, 98, 99, 99, 101, 101, 103, 103, 103, 103, 113, 113, 120, 120, 126, 126, 137, 137]}],\n",
              "                        {\"scene\": {\"xaxis\": {\"title\": {\"text\": \"Age\"}}, \"yaxis\": {\"title\": {\"text\": \"Spending Score\"}}, \"zaxis\": {\"title\": {\"text\": \"Annual Income\"}}}, \"template\": {\"data\": {\"bar\": [{\"error_x\": {\"color\": \"#2a3f5f\"}, \"error_y\": {\"color\": \"#2a3f5f\"}, \"marker\": {\"line\": {\"color\": \"#E5ECF6\", \"width\": 0.5}}, \"type\": \"bar\"}], \"barpolar\": [{\"marker\": {\"line\": {\"color\": \"#E5ECF6\", \"width\": 0.5}}, \"type\": \"barpolar\"}], \"carpet\": [{\"aaxis\": {\"endlinecolor\": \"#2a3f5f\", \"gridcolor\": \"white\", \"linecolor\": \"white\", \"minorgridcolor\": \"white\", \"startlinecolor\": \"#2a3f5f\"}, \"baxis\": {\"endlinecolor\": \"#2a3f5f\", \"gridcolor\": \"white\", \"linecolor\": \"white\", \"minorgridcolor\": \"white\", \"startlinecolor\": \"#2a3f5f\"}, \"type\": \"carpet\"}], \"choropleth\": [{\"colorbar\": {\"outlinewidth\": 0, \"ticks\": \"\"}, \"type\": \"choropleth\"}], \"contour\": [{\"colorbar\": {\"outlinewidth\": 0, \"ticks\": \"\"}, \"colorscale\": [[0.0, \"#0d0887\"], [0.1111111111111111, \"#46039f\"], [0.2222222222222222, \"#7201a8\"], [0.3333333333333333, \"#9c179e\"], [0.4444444444444444, \"#bd3786\"], [0.5555555555555556, \"#d8576b\"], [0.6666666666666666, \"#ed7953\"], [0.7777777777777778, \"#fb9f3a\"], [0.8888888888888888, \"#fdca26\"], [1.0, \"#f0f921\"]], \"type\": \"contour\"}], \"contourcarpet\": [{\"colorbar\": {\"outlinewidth\": 0, \"ticks\": \"\"}, \"type\": \"contourcarpet\"}], \"heatmap\": [{\"colorbar\": {\"outlinewidth\": 0, \"ticks\": \"\"}, \"colorscale\": [[0.0, \"#0d0887\"], [0.1111111111111111, \"#46039f\"], [0.2222222222222222, \"#7201a8\"], [0.3333333333333333, \"#9c179e\"], [0.4444444444444444, \"#bd3786\"], [0.5555555555555556, \"#d8576b\"], [0.6666666666666666, \"#ed7953\"], [0.7777777777777778, \"#fb9f3a\"], [0.8888888888888888, \"#fdca26\"], [1.0, \"#f0f921\"]], \"type\": \"heatmap\"}], \"heatmapgl\": [{\"colorbar\": {\"outlinewidth\": 0, \"ticks\": \"\"}, \"colorscale\": [[0.0, \"#0d0887\"], [0.1111111111111111, \"#46039f\"], [0.2222222222222222, \"#7201a8\"], [0.3333333333333333, \"#9c179e\"], [0.4444444444444444, \"#bd3786\"], [0.5555555555555556, \"#d8576b\"], [0.6666666666666666, \"#ed7953\"], [0.7777777777777778, \"#fb9f3a\"], [0.8888888888888888, \"#fdca26\"], [1.0, \"#f0f921\"]], \"type\": \"heatmapgl\"}], \"histogram\": [{\"marker\": {\"colorbar\": {\"outlinewidth\": 0, \"ticks\": \"\"}}, \"type\": \"histogram\"}], \"histogram2d\": [{\"colorbar\": {\"outlinewidth\": 0, \"ticks\": \"\"}, \"colorscale\": [[0.0, \"#0d0887\"], [0.1111111111111111, \"#46039f\"], [0.2222222222222222, \"#7201a8\"], [0.3333333333333333, \"#9c179e\"], [0.4444444444444444, \"#bd3786\"], [0.5555555555555556, \"#d8576b\"], [0.6666666666666666, \"#ed7953\"], [0.7777777777777778, \"#fb9f3a\"], [0.8888888888888888, \"#fdca26\"], [1.0, \"#f0f921\"]], \"type\": \"histogram2d\"}], \"histogram2dcontour\": [{\"colorbar\": {\"outlinewidth\": 0, \"ticks\": \"\"}, \"colorscale\": [[0.0, \"#0d0887\"], [0.1111111111111111, \"#46039f\"], [0.2222222222222222, \"#7201a8\"], [0.3333333333333333, \"#9c179e\"], [0.4444444444444444, \"#bd3786\"], [0.5555555555555556, \"#d8576b\"], [0.6666666666666666, \"#ed7953\"], [0.7777777777777778, \"#fb9f3a\"], [0.8888888888888888, \"#fdca26\"], [1.0, \"#f0f921\"]], \"type\": \"histogram2dcontour\"}], \"mesh3d\": [{\"colorbar\": {\"outlinewidth\": 0, \"ticks\": \"\"}, \"type\": \"mesh3d\"}], \"parcoords\": [{\"line\": {\"colorbar\": {\"outlinewidth\": 0, \"ticks\": \"\"}}, \"type\": \"parcoords\"}], \"pie\": [{\"automargin\": true, \"type\": \"pie\"}], \"scatter\": [{\"marker\": {\"colorbar\": {\"outlinewidth\": 0, \"ticks\": \"\"}}, \"type\": \"scatter\"}], \"scatter3d\": [{\"line\": {\"colorbar\": {\"outlinewidth\": 0, \"ticks\": \"\"}}, \"marker\": {\"colorbar\": {\"outlinewidth\": 0, \"ticks\": \"\"}}, \"type\": \"scatter3d\"}], \"scattercarpet\": [{\"marker\": {\"colorbar\": {\"outlinewidth\": 0, \"ticks\": \"\"}}, \"type\": \"scattercarpet\"}], \"scattergeo\": [{\"marker\": {\"colorbar\": {\"outlinewidth\": 0, \"ticks\": \"\"}}, \"type\": \"scattergeo\"}], \"scattergl\": [{\"marker\": {\"colorbar\": {\"outlinewidth\": 0, \"ticks\": \"\"}}, \"type\": \"scattergl\"}], \"scattermapbox\": [{\"marker\": {\"colorbar\": {\"outlinewidth\": 0, \"ticks\": \"\"}}, \"type\": \"scattermapbox\"}], \"scatterpolar\": [{\"marker\": {\"colorbar\": {\"outlinewidth\": 0, \"ticks\": \"\"}}, \"type\": \"scatterpolar\"}], \"scatterpolargl\": [{\"marker\": {\"colorbar\": {\"outlinewidth\": 0, \"ticks\": \"\"}}, \"type\": \"scatterpolargl\"}], \"scatterternary\": [{\"marker\": {\"colorbar\": {\"outlinewidth\": 0, \"ticks\": \"\"}}, \"type\": \"scatterternary\"}], \"surface\": [{\"colorbar\": {\"outlinewidth\": 0, \"ticks\": \"\"}, \"colorscale\": [[0.0, \"#0d0887\"], [0.1111111111111111, \"#46039f\"], [0.2222222222222222, \"#7201a8\"], [0.3333333333333333, \"#9c179e\"], [0.4444444444444444, \"#bd3786\"], [0.5555555555555556, \"#d8576b\"], [0.6666666666666666, \"#ed7953\"], [0.7777777777777778, \"#fb9f3a\"], [0.8888888888888888, \"#fdca26\"], [1.0, \"#f0f921\"]], \"type\": \"surface\"}], \"table\": [{\"cells\": {\"fill\": {\"color\": \"#EBF0F8\"}, \"line\": {\"color\": \"white\"}}, \"header\": {\"fill\": {\"color\": \"#C8D4E3\"}, \"line\": {\"color\": \"white\"}}, \"type\": \"table\"}]}, \"layout\": {\"annotationdefaults\": {\"arrowcolor\": \"#2a3f5f\", \"arrowhead\": 0, \"arrowwidth\": 1}, \"coloraxis\": {\"colorbar\": {\"outlinewidth\": 0, \"ticks\": \"\"}}, \"colorscale\": {\"diverging\": [[0, \"#8e0152\"], [0.1, \"#c51b7d\"], [0.2, \"#de77ae\"], [0.3, \"#f1b6da\"], [0.4, \"#fde0ef\"], [0.5, \"#f7f7f7\"], [0.6, \"#e6f5d0\"], [0.7, \"#b8e186\"], [0.8, \"#7fbc41\"], [0.9, \"#4d9221\"], [1, \"#276419\"]], \"sequential\": [[0.0, \"#0d0887\"], [0.1111111111111111, \"#46039f\"], [0.2222222222222222, \"#7201a8\"], [0.3333333333333333, \"#9c179e\"], [0.4444444444444444, \"#bd3786\"], [0.5555555555555556, \"#d8576b\"], [0.6666666666666666, \"#ed7953\"], [0.7777777777777778, \"#fb9f3a\"], [0.8888888888888888, \"#fdca26\"], [1.0, \"#f0f921\"]], \"sequentialminus\": [[0.0, \"#0d0887\"], [0.1111111111111111, \"#46039f\"], [0.2222222222222222, \"#7201a8\"], [0.3333333333333333, \"#9c179e\"], [0.4444444444444444, \"#bd3786\"], [0.5555555555555556, \"#d8576b\"], [0.6666666666666666, \"#ed7953\"], [0.7777777777777778, \"#fb9f3a\"], [0.8888888888888888, \"#fdca26\"], [1.0, \"#f0f921\"]]}, \"colorway\": [\"#636efa\", \"#EF553B\", \"#00cc96\", \"#ab63fa\", \"#FFA15A\", \"#19d3f3\", \"#FF6692\", \"#B6E880\", \"#FF97FF\", \"#FECB52\"], \"font\": {\"color\": \"#2a3f5f\"}, \"geo\": {\"bgcolor\": \"white\", \"lakecolor\": \"white\", \"landcolor\": \"#E5ECF6\", \"showlakes\": true, \"showland\": true, \"subunitcolor\": \"white\"}, \"hoverlabel\": {\"align\": \"left\"}, \"hovermode\": \"closest\", \"mapbox\": {\"style\": \"light\"}, \"paper_bgcolor\": \"white\", \"plot_bgcolor\": \"#E5ECF6\", \"polar\": {\"angularaxis\": {\"gridcolor\": \"white\", \"linecolor\": \"white\", \"ticks\": \"\"}, \"bgcolor\": \"#E5ECF6\", \"radialaxis\": {\"gridcolor\": \"white\", \"linecolor\": \"white\", \"ticks\": \"\"}}, \"scene\": {\"xaxis\": {\"backgroundcolor\": \"#E5ECF6\", \"gridcolor\": \"white\", \"gridwidth\": 2, \"linecolor\": \"white\", \"showbackground\": true, \"ticks\": \"\", \"zerolinecolor\": \"white\"}, \"yaxis\": {\"backgroundcolor\": \"#E5ECF6\", \"gridcolor\": \"white\", \"gridwidth\": 2, \"linecolor\": \"white\", \"showbackground\": true, \"ticks\": \"\", \"zerolinecolor\": \"white\"}, \"zaxis\": {\"backgroundcolor\": \"#E5ECF6\", \"gridcolor\": \"white\", \"gridwidth\": 2, \"linecolor\": \"white\", \"showbackground\": true, \"ticks\": \"\", \"zerolinecolor\": \"white\"}}, \"shapedefaults\": {\"line\": {\"color\": \"#2a3f5f\"}}, \"ternary\": {\"aaxis\": {\"gridcolor\": \"white\", \"linecolor\": \"white\", \"ticks\": \"\"}, \"baxis\": {\"gridcolor\": \"white\", \"linecolor\": \"white\", \"ticks\": \"\"}, \"bgcolor\": \"#E5ECF6\", \"caxis\": {\"gridcolor\": \"white\", \"linecolor\": \"white\", \"ticks\": \"\"}}, \"title\": {\"x\": 0.05}, \"xaxis\": {\"automargin\": true, \"gridcolor\": \"white\", \"linecolor\": \"white\", \"ticks\": \"\", \"title\": {\"standoff\": 15}, \"zerolinecolor\": \"white\", \"zerolinewidth\": 2}, \"yaxis\": {\"automargin\": true, \"gridcolor\": \"white\", \"linecolor\": \"white\", \"ticks\": \"\", \"title\": {\"standoff\": 15}, \"zerolinecolor\": \"white\", \"zerolinewidth\": 2}}}, \"title\": {\"text\": \"Clusters\"}},\n",
              "                        {\"responsive\": true}\n",
              "                    ).then(function(){\n",
              "                            \n",
              "var gd = document.getElementById('66ae6d18-7900-43e1-ba2f-0d1fdaa213bf');\n",
              "var x = new MutationObserver(function (mutations, observer) {{\n",
              "        var display = window.getComputedStyle(gd).display;\n",
              "        if (!display || display === 'none') {{\n",
              "            console.log([gd, 'removed!']);\n",
              "            Plotly.purge(gd);\n",
              "            observer.disconnect();\n",
              "        }}\n",
              "}});\n",
              "\n",
              "// Listen for the removal of the full notebook cells\n",
              "var notebookContainer = gd.closest('#notebook-container');\n",
              "if (notebookContainer) {{\n",
              "    x.observe(notebookContainer, {childList: true});\n",
              "}}\n",
              "\n",
              "// Listen for the clearing of the current output cell\n",
              "var outputEl = gd.closest('.output');\n",
              "if (outputEl) {{\n",
              "    x.observe(outputEl, {childList: true});\n",
              "}}\n",
              "\n",
              "                        })\n",
              "                };\n",
              "                });\n",
              "            </script>\n",
              "        </div>"
            ],
            "application/vnd.plotly.v1+json": {
              "data": [
                {
                  "y": [
                    39,
                    81,
                    6,
                    77,
                    40,
                    76,
                    6,
                    94,
                    3,
                    72,
                    14,
                    99,
                    15,
                    77,
                    13,
                    79,
                    35,
                    66,
                    29,
                    98,
                    35,
                    73,
                    5,
                    73,
                    14,
                    82,
                    32,
                    61,
                    31,
                    87,
                    4,
                    73,
                    4,
                    92,
                    14,
                    81,
                    17,
                    73,
                    26,
                    75,
                    35,
                    92,
                    36,
                    61,
                    28,
                    65,
                    55,
                    47,
                    42,
                    42,
                    52,
                    60,
                    54,
                    60,
                    45,
                    41,
                    50,
                    46,
                    51,
                    46,
                    56,
                    55,
                    52,
                    59,
                    51,
                    59,
                    50,
                    48,
                    59,
                    47,
                    55,
                    42,
                    49,
                    56,
                    47,
                    54,
                    53,
                    48,
                    52,
                    42,
                    51,
                    55,
                    41,
                    44,
                    57,
                    46,
                    58,
                    55,
                    60,
                    46,
                    55,
                    41,
                    49,
                    40,
                    42,
                    52,
                    47,
                    50,
                    42,
                    49,
                    41,
                    48,
                    59,
                    55,
                    56,
                    42,
                    50,
                    46,
                    43,
                    48,
                    52,
                    54,
                    42,
                    46,
                    48,
                    50,
                    43,
                    59,
                    43,
                    57,
                    56,
                    40,
                    58,
                    91,
                    29,
                    77,
                    35,
                    95,
                    11,
                    75,
                    9,
                    75,
                    34,
                    71,
                    5,
                    88,
                    7,
                    73,
                    10,
                    72,
                    5,
                    93,
                    40,
                    87,
                    12,
                    97,
                    36,
                    74,
                    22,
                    90,
                    17,
                    88,
                    20,
                    76,
                    16,
                    89,
                    1,
                    78,
                    1,
                    73,
                    35,
                    83,
                    5,
                    93,
                    26,
                    75,
                    20,
                    95,
                    27,
                    63,
                    13,
                    75,
                    10,
                    92,
                    13,
                    86,
                    15,
                    69,
                    14,
                    90,
                    32,
                    86,
                    15,
                    88,
                    39,
                    97,
                    24,
                    68,
                    17,
                    85,
                    23,
                    69,
                    8,
                    91,
                    16,
                    79,
                    28,
                    74,
                    18,
                    83
                  ],
                  "mode": "markers",
                  "marker": {
                    "color": [
                      4,
                      3,
                      4,
                      3,
                      4,
                      3,
                      4,
                      3,
                      4,
                      3,
                      4,
                      3,
                      4,
                      3,
                      4,
                      3,
                      4,
                      3,
                      4,
                      3,
                      4,
                      3,
                      4,
                      3,
                      4,
                      3,
                      4,
                      3,
                      4,
                      3,
                      4,
                      3,
                      4,
                      3,
                      4,
                      3,
                      4,
                      3,
                      4,
                      3,
                      0,
                      3,
                      0,
                      5,
                      4,
                      3,
                      0,
                      5,
                      5,
                      5,
                      0,
                      5,
                      5,
                      0,
                      0,
                      0,
                      0,
                      0,
                      5,
                      0,
                      0,
                      5,
                      0,
                      0,
                      0,
                      5,
                      0,
                      0,
                      5,
                      5,
                      0,
                      0,
                      0,
                      0,
                      0,
                      5,
                      0,
                      5,
                      5,
                      0,
                      0,
                      5,
                      0,
                      0,
                      5,
                      0,
                      0,
                      5,
                      5,
                      0,
                      0,
                      5,
                      0,
                      5,
                      5,
                      5,
                      0,
                      5,
                      0,
                      5,
                      5,
                      0,
                      0,
                      5,
                      0,
                      5,
                      0,
                      0,
                      0,
                      0,
                      0,
                      5,
                      5,
                      5,
                      5,
                      5,
                      0,
                      0,
                      0,
                      0,
                      5,
                      5,
                      5,
                      1,
                      5,
                      1,
                      2,
                      1,
                      2,
                      1,
                      2,
                      1,
                      5,
                      1,
                      2,
                      1,
                      2,
                      1,
                      2,
                      1,
                      2,
                      1,
                      5,
                      1,
                      2,
                      1,
                      2,
                      1,
                      2,
                      1,
                      2,
                      1,
                      2,
                      1,
                      2,
                      1,
                      2,
                      1,
                      2,
                      1,
                      2,
                      1,
                      2,
                      1,
                      2,
                      1,
                      2,
                      1,
                      2,
                      1,
                      2,
                      1,
                      2,
                      1,
                      2,
                      1,
                      2,
                      1,
                      2,
                      1,
                      2,
                      1,
                      2,
                      1,
                      2,
                      1,
                      2,
                      1,
                      2,
                      1,
                      2,
                      1,
                      2,
                      1,
                      2,
                      1,
                      2,
                      1,
                      2,
                      1
                    ],
                    "opacity": 0.8,
                    "line": {
                      "color": [
                        4,
                        3,
                        4,
                        3,
                        4,
                        3,
                        4,
                        3,
                        4,
                        3,
                        4,
                        3,
                        4,
                        3,
                        4,
                        3,
                        4,
                        3,
                        4,
                        3,
                        4,
                        3,
                        4,
                        3,
                        4,
                        3,
                        4,
                        3,
                        4,
                        3,
                        4,
                        3,
                        4,
                        3,
                        4,
                        3,
                        4,
                        3,
                        4,
                        3,
                        0,
                        3,
                        0,
                        5,
                        4,
                        3,
                        0,
                        5,
                        5,
                        5,
                        0,
                        5,
                        5,
                        0,
                        0,
                        0,
                        0,
                        0,
                        5,
                        0,
                        0,
                        5,
                        0,
                        0,
                        0,
                        5,
                        0,
                        0,
                        5,
                        5,
                        0,
                        0,
                        0,
                        0,
                        0,
                        5,
                        0,
                        5,
                        5,
                        0,
                        0,
                        5,
                        0,
                        0,
                        5,
                        0,
                        0,
                        5,
                        5,
                        0,
                        0,
                        5,
                        0,
                        5,
                        5,
                        5,
                        0,
                        5,
                        0,
                        5,
                        5,
                        0,
                        0,
                        5,
                        0,
                        5,
                        0,
                        0,
                        0,
                        0,
                        0,
                        5,
                        5,
                        5,
                        5,
                        5,
                        0,
                        0,
                        0,
                        0,
                        5,
                        5,
                        5,
                        1,
                        5,
                        1,
                        2,
                        1,
                        2,
                        1,
                        2,
                        1,
                        5,
                        1,
                        2,
                        1,
                        2,
                        1,
                        2,
                        1,
                        2,
                        1,
                        5,
                        1,
                        2,
                        1,
                        2,
                        1,
                        2,
                        1,
                        2,
                        1,
                        2,
                        1,
                        2,
                        1,
                        2,
                        1,
                        2,
                        1,
                        2,
                        1,
                        2,
                        1,
                        2,
                        1,
                        2,
                        1,
                        2,
                        1,
                        2,
                        1,
                        2,
                        1,
                        2,
                        1,
                        2,
                        1,
                        2,
                        1,
                        2,
                        1,
                        2,
                        1,
                        2,
                        1,
                        2,
                        1,
                        2,
                        1,
                        2,
                        1,
                        2,
                        1,
                        2,
                        1,
                        2,
                        1,
                        2,
                        1
                      ],
                      "width": 12
                    },
                    "size": 20
                  },
                  "x": [
                    19,
                    21,
                    20,
                    23,
                    31,
                    22,
                    35,
                    23,
                    64,
                    30,
                    67,
                    35,
                    58,
                    24,
                    37,
                    22,
                    35,
                    20,
                    52,
                    35,
                    35,
                    25,
                    46,
                    31,
                    54,
                    29,
                    45,
                    35,
                    40,
                    23,
                    60,
                    21,
                    53,
                    18,
                    49,
                    21,
                    42,
                    30,
                    36,
                    20,
                    65,
                    24,
                    48,
                    31,
                    49,
                    24,
                    50,
                    27,
                    29,
                    31,
                    49,
                    33,
                    31,
                    59,
                    50,
                    47,
                    51,
                    69,
                    27,
                    53,
                    70,
                    19,
                    67,
                    54,
                    63,
                    18,
                    43,
                    68,
                    19,
                    32,
                    70,
                    47,
                    60,
                    60,
                    59,
                    26,
                    45,
                    40,
                    23,
                    49,
                    57,
                    38,
                    67,
                    46,
                    21,
                    48,
                    55,
                    22,
                    34,
                    50,
                    68,
                    18,
                    48,
                    40,
                    32,
                    24,
                    47,
                    27,
                    48,
                    20,
                    23,
                    49,
                    67,
                    26,
                    49,
                    21,
                    66,
                    54,
                    68,
                    66,
                    65,
                    19,
                    38,
                    19,
                    18,
                    19,
                    63,
                    49,
                    51,
                    50,
                    27,
                    38,
                    40,
                    39,
                    23,
                    31,
                    43,
                    40,
                    59,
                    38,
                    47,
                    39,
                    25,
                    31,
                    20,
                    29,
                    44,
                    32,
                    19,
                    35,
                    57,
                    32,
                    28,
                    32,
                    25,
                    28,
                    48,
                    32,
                    34,
                    34,
                    43,
                    39,
                    44,
                    38,
                    47,
                    27,
                    37,
                    30,
                    34,
                    30,
                    56,
                    29,
                    19,
                    31,
                    50,
                    36,
                    42,
                    33,
                    36,
                    32,
                    40,
                    28,
                    36,
                    36,
                    52,
                    30,
                    58,
                    27,
                    59,
                    35,
                    37,
                    32,
                    46,
                    29,
                    41,
                    30,
                    54,
                    28,
                    41,
                    36,
                    34,
                    32,
                    33,
                    38,
                    47,
                    35,
                    45,
                    32,
                    32,
                    30
                  ],
                  "z": [
                    15,
                    15,
                    16,
                    16,
                    17,
                    17,
                    18,
                    18,
                    19,
                    19,
                    19,
                    19,
                    20,
                    20,
                    20,
                    20,
                    21,
                    21,
                    23,
                    23,
                    24,
                    24,
                    25,
                    25,
                    28,
                    28,
                    28,
                    28,
                    29,
                    29,
                    30,
                    30,
                    33,
                    33,
                    33,
                    33,
                    34,
                    34,
                    37,
                    37,
                    38,
                    38,
                    39,
                    39,
                    39,
                    39,
                    40,
                    40,
                    40,
                    40,
                    42,
                    42,
                    43,
                    43,
                    43,
                    43,
                    44,
                    44,
                    46,
                    46,
                    46,
                    46,
                    47,
                    47,
                    48,
                    48,
                    48,
                    48,
                    48,
                    48,
                    49,
                    49,
                    50,
                    50,
                    54,
                    54,
                    54,
                    54,
                    54,
                    54,
                    54,
                    54,
                    54,
                    54,
                    54,
                    54,
                    57,
                    57,
                    58,
                    58,
                    59,
                    59,
                    60,
                    60,
                    60,
                    60,
                    60,
                    60,
                    61,
                    61,
                    62,
                    62,
                    62,
                    62,
                    62,
                    62,
                    63,
                    63,
                    63,
                    63,
                    63,
                    63,
                    64,
                    64,
                    65,
                    65,
                    65,
                    65,
                    67,
                    67,
                    67,
                    67,
                    69,
                    69,
                    70,
                    70,
                    71,
                    71,
                    71,
                    71,
                    71,
                    71,
                    72,
                    72,
                    73,
                    73,
                    73,
                    73,
                    74,
                    74,
                    75,
                    75,
                    76,
                    76,
                    77,
                    77,
                    77,
                    77,
                    78,
                    78,
                    78,
                    78,
                    78,
                    78,
                    78,
                    78,
                    78,
                    78,
                    78,
                    78,
                    79,
                    79,
                    81,
                    81,
                    85,
                    85,
                    86,
                    86,
                    87,
                    87,
                    87,
                    87,
                    87,
                    87,
                    88,
                    88,
                    88,
                    88,
                    93,
                    93,
                    97,
                    97,
                    98,
                    98,
                    99,
                    99,
                    101,
                    101,
                    103,
                    103,
                    103,
                    103,
                    113,
                    113,
                    120,
                    120,
                    126,
                    126,
                    137,
                    137
                  ],
                  "type": "scatter3d"
                }
              ],
              "config": {
                "plotlyServerURL": "https://plot.ly",
                "linkText": "Export to plot.ly",
                "showLink": false
              },
              "layout": {
                "scene": {
                  "zaxis": {
                    "title": {
                      "text": "Annual Income"
                    }
                  },
                  "xaxis": {
                    "title": {
                      "text": "Age"
                    }
                  },
                  "yaxis": {
                    "title": {
                      "text": "Spending Score"
                    }
                  }
                },
                "template": {
                  "layout": {
                    "shapedefaults": {
                      "line": {
                        "color": "#2a3f5f"
                      }
                    },
                    "polar": {
                      "radialaxis": {
                        "ticks": "",
                        "gridcolor": "white",
                        "linecolor": "white"
                      },
                      "bgcolor": "#E5ECF6",
                      "angularaxis": {
                        "ticks": "",
                        "gridcolor": "white",
                        "linecolor": "white"
                      }
                    },
                    "colorway": [
                      "#636efa",
                      "#EF553B",
                      "#00cc96",
                      "#ab63fa",
                      "#FFA15A",
                      "#19d3f3",
                      "#FF6692",
                      "#B6E880",
                      "#FF97FF",
                      "#FECB52"
                    ],
                    "xaxis": {
                      "automargin": true,
                      "title": {
                        "standoff": 15
                      },
                      "zerolinewidth": 2,
                      "ticks": "",
                      "zerolinecolor": "white",
                      "gridcolor": "white",
                      "linecolor": "white"
                    },
                    "colorscale": {
                      "diverging": [
                        [
                          0,
                          "#8e0152"
                        ],
                        [
                          0.1,
                          "#c51b7d"
                        ],
                        [
                          0.2,
                          "#de77ae"
                        ],
                        [
                          0.3,
                          "#f1b6da"
                        ],
                        [
                          0.4,
                          "#fde0ef"
                        ],
                        [
                          0.5,
                          "#f7f7f7"
                        ],
                        [
                          0.6,
                          "#e6f5d0"
                        ],
                        [
                          0.7,
                          "#b8e186"
                        ],
                        [
                          0.8,
                          "#7fbc41"
                        ],
                        [
                          0.9,
                          "#4d9221"
                        ],
                        [
                          1,
                          "#276419"
                        ]
                      ],
                      "sequential": [
                        [
                          0,
                          "#0d0887"
                        ],
                        [
                          0.1111111111111111,
                          "#46039f"
                        ],
                        [
                          0.2222222222222222,
                          "#7201a8"
                        ],
                        [
                          0.3333333333333333,
                          "#9c179e"
                        ],
                        [
                          0.4444444444444444,
                          "#bd3786"
                        ],
                        [
                          0.5555555555555556,
                          "#d8576b"
                        ],
                        [
                          0.6666666666666666,
                          "#ed7953"
                        ],
                        [
                          0.7777777777777778,
                          "#fb9f3a"
                        ],
                        [
                          0.8888888888888888,
                          "#fdca26"
                        ],
                        [
                          1,
                          "#f0f921"
                        ]
                      ],
                      "sequentialminus": [
                        [
                          0,
                          "#0d0887"
                        ],
                        [
                          0.1111111111111111,
                          "#46039f"
                        ],
                        [
                          0.2222222222222222,
                          "#7201a8"
                        ],
                        [
                          0.3333333333333333,
                          "#9c179e"
                        ],
                        [
                          0.4444444444444444,
                          "#bd3786"
                        ],
                        [
                          0.5555555555555556,
                          "#d8576b"
                        ],
                        [
                          0.6666666666666666,
                          "#ed7953"
                        ],
                        [
                          0.7777777777777778,
                          "#fb9f3a"
                        ],
                        [
                          0.8888888888888888,
                          "#fdca26"
                        ],
                        [
                          1,
                          "#f0f921"
                        ]
                      ]
                    },
                    "paper_bgcolor": "white",
                    "plot_bgcolor": "#E5ECF6",
                    "title": {
                      "x": 0.05
                    },
                    "scene": {
                      "zaxis": {
                        "backgroundcolor": "#E5ECF6",
                        "ticks": "",
                        "gridwidth": 2,
                        "showbackground": true,
                        "zerolinecolor": "white",
                        "gridcolor": "white",
                        "linecolor": "white"
                      },
                      "xaxis": {
                        "backgroundcolor": "#E5ECF6",
                        "ticks": "",
                        "gridwidth": 2,
                        "showbackground": true,
                        "zerolinecolor": "white",
                        "gridcolor": "white",
                        "linecolor": "white"
                      },
                      "yaxis": {
                        "backgroundcolor": "#E5ECF6",
                        "ticks": "",
                        "gridwidth": 2,
                        "showbackground": true,
                        "zerolinecolor": "white",
                        "gridcolor": "white",
                        "linecolor": "white"
                      }
                    },
                    "yaxis": {
                      "automargin": true,
                      "title": {
                        "standoff": 15
                      },
                      "zerolinewidth": 2,
                      "ticks": "",
                      "zerolinecolor": "white",
                      "gridcolor": "white",
                      "linecolor": "white"
                    },
                    "annotationdefaults": {
                      "arrowwidth": 1,
                      "arrowhead": 0,
                      "arrowcolor": "#2a3f5f"
                    },
                    "hoverlabel": {
                      "align": "left"
                    },
                    "ternary": {
                      "bgcolor": "#E5ECF6",
                      "baxis": {
                        "ticks": "",
                        "gridcolor": "white",
                        "linecolor": "white"
                      },
                      "caxis": {
                        "ticks": "",
                        "gridcolor": "white",
                        "linecolor": "white"
                      },
                      "aaxis": {
                        "ticks": "",
                        "gridcolor": "white",
                        "linecolor": "white"
                      }
                    },
                    "mapbox": {
                      "style": "light"
                    },
                    "hovermode": "closest",
                    "font": {
                      "color": "#2a3f5f"
                    },
                    "geo": {
                      "showland": true,
                      "landcolor": "#E5ECF6",
                      "showlakes": true,
                      "bgcolor": "white",
                      "subunitcolor": "white",
                      "lakecolor": "white"
                    },
                    "coloraxis": {
                      "colorbar": {
                        "outlinewidth": 0,
                        "ticks": ""
                      }
                    }
                  },
                  "data": {
                    "mesh3d": [
                      {
                        "colorbar": {
                          "outlinewidth": 0,
                          "ticks": ""
                        },
                        "type": "mesh3d"
                      }
                    ],
                    "scattercarpet": [
                      {
                        "marker": {
                          "colorbar": {
                            "outlinewidth": 0,
                            "ticks": ""
                          }
                        },
                        "type": "scattercarpet"
                      }
                    ],
                    "pie": [
                      {
                        "automargin": true,
                        "type": "pie"
                      }
                    ],
                    "surface": [
                      {
                        "colorbar": {
                          "outlinewidth": 0,
                          "ticks": ""
                        },
                        "type": "surface",
                        "colorscale": [
                          [
                            0,
                            "#0d0887"
                          ],
                          [
                            0.1111111111111111,
                            "#46039f"
                          ],
                          [
                            0.2222222222222222,
                            "#7201a8"
                          ],
                          [
                            0.3333333333333333,
                            "#9c179e"
                          ],
                          [
                            0.4444444444444444,
                            "#bd3786"
                          ],
                          [
                            0.5555555555555556,
                            "#d8576b"
                          ],
                          [
                            0.6666666666666666,
                            "#ed7953"
                          ],
                          [
                            0.7777777777777778,
                            "#fb9f3a"
                          ],
                          [
                            0.8888888888888888,
                            "#fdca26"
                          ],
                          [
                            1,
                            "#f0f921"
                          ]
                        ]
                      }
                    ],
                    "table": [
                      {
                        "header": {
                          "line": {
                            "color": "white"
                          },
                          "fill": {
                            "color": "#C8D4E3"
                          }
                        },
                        "cells": {
                          "line": {
                            "color": "white"
                          },
                          "fill": {
                            "color": "#EBF0F8"
                          }
                        },
                        "type": "table"
                      }
                    ],
                    "scatterpolargl": [
                      {
                        "marker": {
                          "colorbar": {
                            "outlinewidth": 0,
                            "ticks": ""
                          }
                        },
                        "type": "scatterpolargl"
                      }
                    ],
                    "contour": [
                      {
                        "colorbar": {
                          "outlinewidth": 0,
                          "ticks": ""
                        },
                        "type": "contour",
                        "colorscale": [
                          [
                            0,
                            "#0d0887"
                          ],
                          [
                            0.1111111111111111,
                            "#46039f"
                          ],
                          [
                            0.2222222222222222,
                            "#7201a8"
                          ],
                          [
                            0.3333333333333333,
                            "#9c179e"
                          ],
                          [
                            0.4444444444444444,
                            "#bd3786"
                          ],
                          [
                            0.5555555555555556,
                            "#d8576b"
                          ],
                          [
                            0.6666666666666666,
                            "#ed7953"
                          ],
                          [
                            0.7777777777777778,
                            "#fb9f3a"
                          ],
                          [
                            0.8888888888888888,
                            "#fdca26"
                          ],
                          [
                            1,
                            "#f0f921"
                          ]
                        ]
                      }
                    ],
                    "carpet": [
                      {
                        "type": "carpet",
                        "baxis": {
                          "minorgridcolor": "white",
                          "gridcolor": "white",
                          "linecolor": "white",
                          "endlinecolor": "#2a3f5f",
                          "startlinecolor": "#2a3f5f"
                        },
                        "aaxis": {
                          "minorgridcolor": "white",
                          "gridcolor": "white",
                          "linecolor": "white",
                          "endlinecolor": "#2a3f5f",
                          "startlinecolor": "#2a3f5f"
                        }
                      }
                    ],
                    "contourcarpet": [
                      {
                        "colorbar": {
                          "outlinewidth": 0,
                          "ticks": ""
                        },
                        "type": "contourcarpet"
                      }
                    ],
                    "heatmap": [
                      {
                        "colorbar": {
                          "outlinewidth": 0,
                          "ticks": ""
                        },
                        "type": "heatmap",
                        "colorscale": [
                          [
                            0,
                            "#0d0887"
                          ],
                          [
                            0.1111111111111111,
                            "#46039f"
                          ],
                          [
                            0.2222222222222222,
                            "#7201a8"
                          ],
                          [
                            0.3333333333333333,
                            "#9c179e"
                          ],
                          [
                            0.4444444444444444,
                            "#bd3786"
                          ],
                          [
                            0.5555555555555556,
                            "#d8576b"
                          ],
                          [
                            0.6666666666666666,
                            "#ed7953"
                          ],
                          [
                            0.7777777777777778,
                            "#fb9f3a"
                          ],
                          [
                            0.8888888888888888,
                            "#fdca26"
                          ],
                          [
                            1,
                            "#f0f921"
                          ]
                        ]
                      }
                    ],
                    "scattermapbox": [
                      {
                        "marker": {
                          "colorbar": {
                            "outlinewidth": 0,
                            "ticks": ""
                          }
                        },
                        "type": "scattermapbox"
                      }
                    ],
                    "scatter3d": [
                      {
                        "marker": {
                          "colorbar": {
                            "outlinewidth": 0,
                            "ticks": ""
                          }
                        },
                        "line": {
                          "colorbar": {
                            "outlinewidth": 0,
                            "ticks": ""
                          }
                        },
                        "type": "scatter3d"
                      }
                    ],
                    "scattergl": [
                      {
                        "marker": {
                          "colorbar": {
                            "outlinewidth": 0,
                            "ticks": ""
                          }
                        },
                        "type": "scattergl"
                      }
                    ],
                    "scatterternary": [
                      {
                        "marker": {
                          "colorbar": {
                            "outlinewidth": 0,
                            "ticks": ""
                          }
                        },
                        "type": "scatterternary"
                      }
                    ],
                    "histogram": [
                      {
                        "marker": {
                          "colorbar": {
                            "outlinewidth": 0,
                            "ticks": ""
                          }
                        },
                        "type": "histogram"
                      }
                    ],
                    "heatmapgl": [
                      {
                        "colorbar": {
                          "outlinewidth": 0,
                          "ticks": ""
                        },
                        "type": "heatmapgl",
                        "colorscale": [
                          [
                            0,
                            "#0d0887"
                          ],
                          [
                            0.1111111111111111,
                            "#46039f"
                          ],
                          [
                            0.2222222222222222,
                            "#7201a8"
                          ],
                          [
                            0.3333333333333333,
                            "#9c179e"
                          ],
                          [
                            0.4444444444444444,
                            "#bd3786"
                          ],
                          [
                            0.5555555555555556,
                            "#d8576b"
                          ],
                          [
                            0.6666666666666666,
                            "#ed7953"
                          ],
                          [
                            0.7777777777777778,
                            "#fb9f3a"
                          ],
                          [
                            0.8888888888888888,
                            "#fdca26"
                          ],
                          [
                            1,
                            "#f0f921"
                          ]
                        ]
                      }
                    ],
                    "scatterpolar": [
                      {
                        "marker": {
                          "colorbar": {
                            "outlinewidth": 0,
                            "ticks": ""
                          }
                        },
                        "type": "scatterpolar"
                      }
                    ],
                    "histogram2d": [
                      {
                        "colorbar": {
                          "outlinewidth": 0,
                          "ticks": ""
                        },
                        "type": "histogram2d",
                        "colorscale": [
                          [
                            0,
                            "#0d0887"
                          ],
                          [
                            0.1111111111111111,
                            "#46039f"
                          ],
                          [
                            0.2222222222222222,
                            "#7201a8"
                          ],
                          [
                            0.3333333333333333,
                            "#9c179e"
                          ],
                          [
                            0.4444444444444444,
                            "#bd3786"
                          ],
                          [
                            0.5555555555555556,
                            "#d8576b"
                          ],
                          [
                            0.6666666666666666,
                            "#ed7953"
                          ],
                          [
                            0.7777777777777778,
                            "#fb9f3a"
                          ],
                          [
                            0.8888888888888888,
                            "#fdca26"
                          ],
                          [
                            1,
                            "#f0f921"
                          ]
                        ]
                      }
                    ],
                    "scattergeo": [
                      {
                        "marker": {
                          "colorbar": {
                            "outlinewidth": 0,
                            "ticks": ""
                          }
                        },
                        "type": "scattergeo"
                      }
                    ],
                    "bar": [
                      {
                        "marker": {
                          "line": {
                            "color": "#E5ECF6",
                            "width": 0.5
                          }
                        },
                        "type": "bar",
                        "error_x": {
                          "color": "#2a3f5f"
                        },
                        "error_y": {
                          "color": "#2a3f5f"
                        }
                      }
                    ],
                    "choropleth": [
                      {
                        "colorbar": {
                          "outlinewidth": 0,
                          "ticks": ""
                        },
                        "type": "choropleth"
                      }
                    ],
                    "parcoords": [
                      {
                        "line": {
                          "colorbar": {
                            "outlinewidth": 0,
                            "ticks": ""
                          }
                        },
                        "type": "parcoords"
                      }
                    ],
                    "barpolar": [
                      {
                        "marker": {
                          "line": {
                            "color": "#E5ECF6",
                            "width": 0.5
                          }
                        },
                        "type": "barpolar"
                      }
                    ],
                    "histogram2dcontour": [
                      {
                        "colorbar": {
                          "outlinewidth": 0,
                          "ticks": ""
                        },
                        "type": "histogram2dcontour",
                        "colorscale": [
                          [
                            0,
                            "#0d0887"
                          ],
                          [
                            0.1111111111111111,
                            "#46039f"
                          ],
                          [
                            0.2222222222222222,
                            "#7201a8"
                          ],
                          [
                            0.3333333333333333,
                            "#9c179e"
                          ],
                          [
                            0.4444444444444444,
                            "#bd3786"
                          ],
                          [
                            0.5555555555555556,
                            "#d8576b"
                          ],
                          [
                            0.6666666666666666,
                            "#ed7953"
                          ],
                          [
                            0.7777777777777778,
                            "#fb9f3a"
                          ],
                          [
                            0.8888888888888888,
                            "#fdca26"
                          ],
                          [
                            1,
                            "#f0f921"
                          ]
                        ]
                      }
                    ],
                    "scatter": [
                      {
                        "marker": {
                          "colorbar": {
                            "outlinewidth": 0,
                            "ticks": ""
                          }
                        },
                        "type": "scatter"
                      }
                    ]
                  }
                },
                "title": {
                  "text": "Clusters"
                }
              }
            }
          },
          "metadata": {
            "tags": []
          }
        }
      ]
    }
  ]
}