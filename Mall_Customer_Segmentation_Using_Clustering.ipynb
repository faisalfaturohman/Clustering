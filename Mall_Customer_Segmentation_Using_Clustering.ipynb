{
  "nbformat": 4,
  "nbformat_minor": 0,
  "metadata": {
    "colab": {
      "name": "Mall-Customer-Segmentation-Using-Clustering.ipynb",
      "provenance": [],
      "authorship_tag": "ABX9TyOY3Q5IkJhbIK+mn4Nk+7Ik",
      "include_colab_link": true
    },
    "kernelspec": {
      "name": "python3",
      "display_name": "Python 3"
    }
  },
  "cells": [
    {
      "cell_type": "markdown",
      "metadata": {
        "id": "view-in-github",
        "colab_type": "text"
      },
      "source": [
        "<a href=\"https://colab.research.google.com/github/faisalfaturohman/Mall-Customer-Segmentation-Using-Clustering/blob/main/Mall_Customer_Segmentation_Using_Clustering.ipynb\" target=\"_parent\"><img src=\"https://colab.research.google.com/assets/colab-badge.svg\" alt=\"Open In Colab\"/></a>"
      ]
    },
    {
      "cell_type": "code",
      "metadata": {
        "id": "p7AlRWSmMTHy"
      },
      "source": [
        ""
      ],
      "execution_count": null,
      "outputs": []
    }
  ]
}